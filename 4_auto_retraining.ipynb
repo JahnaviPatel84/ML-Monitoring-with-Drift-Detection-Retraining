{
 "cells": [
  {
   "cell_type": "code",
   "execution_count": 1,
   "id": "4f477db5-4033-4d07-b4a4-85ec30c9aca3",
   "metadata": {},
   "outputs": [
    {
     "name": "stdout",
     "output_type": "stream",
     "text": [
      "Combined dataset shape: (14064, 31)\n"
     ]
    }
   ],
   "source": [
    "import pandas as pd\n",
    "from sklearn.model_selection import train_test_split\n",
    "from sklearn.ensemble import RandomForestClassifier\n",
    "from sklearn.metrics import classification_report, accuracy_score, precision_score, recall_score, f1_score\n",
    "import mlflow\n",
    "import mlflow.sklearn\n",
    "\n",
    "df_clean = pd.read_csv('telco_churn_clean.csv')\n",
    "df_drifted = pd.read_csv('telco_churn_drifted.csv')\n",
    "\n",
    "# Combine clean + drifted data (simulate real-world adaptation)\n",
    "df_combined = pd.concat([df_clean, df_drifted], axis=0).sample(frac=1, random_state=42).reset_index(drop=True)\n",
    "\n",
    "print(\"Combined dataset shape:\", df_combined.shape)\n"
   ]
  },
  {
   "cell_type": "code",
   "execution_count": 2,
   "id": "c7fa3cc2-17df-4a48-85a9-fa1182adb279",
   "metadata": {},
   "outputs": [
    {
     "name": "stdout",
     "output_type": "stream",
     "text": [
      "Retrained Model on Combined Data:\n",
      "\n",
      "              precision    recall  f1-score   support\n",
      "\n",
      "           0       0.79      0.90      0.84      1968\n",
      "           1       0.65      0.44      0.52       845\n",
      "\n",
      "    accuracy                           0.76      2813\n",
      "   macro avg       0.72      0.67      0.68      2813\n",
      "weighted avg       0.75      0.76      0.75      2813\n",
      "\n"
     ]
    }
   ],
   "source": [
    "X = df_combined.drop('Churn', axis=1)\n",
    "y = df_combined['Churn']\n",
    "\n",
    "X_train, X_test, y_train, y_test = train_test_split(X, y, test_size=0.2, stratify=y, random_state=42)\n",
    "\n",
    "# Train new model\n",
    "model = RandomForestClassifier(n_estimators=100, class_weight='balanced', random_state=42)\n",
    "model.fit(X_train, y_train)\n",
    "\n",
    "# Evaluate\n",
    "y_pred = model.predict(X_test)\n",
    "\n",
    "acc = accuracy_score(y_test, y_pred)\n",
    "prec = precision_score(y_test, y_pred)\n",
    "rec = recall_score(y_test, y_pred)\n",
    "f1 = f1_score(y_test, y_pred)\n",
    "\n",
    "print(\"Retrained Model on Combined Data:\\n\")\n",
    "print(classification_report(y_test, y_pred))"
   ]
  },
  {
   "cell_type": "code",
   "execution_count": 3,
   "id": "3af15aef-8c95-4a77-8e25-5fec43b9de68",
   "metadata": {},
   "outputs": [
    {
     "name": "stderr",
     "output_type": "stream",
     "text": [
      "2025/03/29 23:27:55 WARNING mlflow.models.model: Model logged without a signature and input example. Please set `input_example` parameter when logging the model to auto infer the model signature.\n"
     ]
    },
    {
     "name": "stdout",
     "output_type": "stream",
     "text": [
      "Retrained model logged to MLflow.\n"
     ]
    }
   ],
   "source": [
    "mlflow.set_experiment(\"Telco Churn Monitoring\")\n",
    "\n",
    "with mlflow.start_run(run_name=\"Retrained on Clean+Drifted\"):\n",
    "    mlflow.log_param(\"model_type\", \"RandomForest\")\n",
    "    mlflow.log_param(\"training_data\", \"clean + drifted\")\n",
    "    mlflow.log_param(\"n_estimators\", 100)\n",
    "    mlflow.log_param(\"class_weight\", \"balanced\")\n",
    "\n",
    "    mlflow.log_metric(\"accuracy\", acc)\n",
    "    mlflow.log_metric(\"precision\", prec)\n",
    "    mlflow.log_metric(\"recall\", rec)\n",
    "    mlflow.log_metric(\"f1_score\", f1)\n",
    "\n",
    "    mlflow.sklearn.log_model(model, \"rf_retrained_mixed\")\n",
    "\n",
    "    print(\"Retrained model logged to MLflow.\")"
   ]
  },
  {
   "cell_type": "code",
   "execution_count": null,
   "id": "6508b96e-4258-4a40-a1a2-0f0d72a45e88",
   "metadata": {},
   "outputs": [],
   "source": []
  }
 ],
 "metadata": {
  "kernelspec": {
   "display_name": "Python 3 (ipykernel)",
   "language": "python",
   "name": "python3"
  },
  "language_info": {
   "codemirror_mode": {
    "name": "ipython",
    "version": 3
   },
   "file_extension": ".py",
   "mimetype": "text/x-python",
   "name": "python",
   "nbconvert_exporter": "python",
   "pygments_lexer": "ipython3",
   "version": "3.12.4"
  }
 },
 "nbformat": 4,
 "nbformat_minor": 5
}
