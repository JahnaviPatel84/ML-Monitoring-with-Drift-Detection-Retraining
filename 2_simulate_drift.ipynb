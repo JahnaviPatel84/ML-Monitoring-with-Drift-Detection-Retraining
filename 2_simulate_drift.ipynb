{
 "cells": [
  {
   "cell_type": "code",
   "execution_count": 1,
   "id": "62cc4dd4-4d0c-4145-bcc5-feae6ff54fbd",
   "metadata": {},
   "outputs": [
    {
     "name": "stdout",
     "output_type": "stream",
     "text": [
      "Loaded and saved clean dataset.\n"
     ]
    }
   ],
   "source": [
    "import pandas as pd\n",
    "import numpy as np\n",
    "\n",
    "# Load the original cleaned dataset\n",
    "df = pd.read_csv('Telco-Customer-Churn.csv')\n",
    "\n",
    "# Drop customerID\n",
    "df.drop('customerID', axis=1, inplace=True)\n",
    "\n",
    "# Convert TotalCharges to numeric\n",
    "df['TotalCharges'] = pd.to_numeric(df['TotalCharges'], errors='coerce')\n",
    "df = df.dropna()\n",
    "df['Churn'] = df['Churn'].map({'Yes': 1, 'No': 0})\n",
    "\n",
    "df = pd.get_dummies(df, drop_first=True)\n",
    "\n",
    "# Save a clean reference copy\n",
    "df.to_csv('telco_churn_clean.csv', index=False)\n",
    "print(\"Loaded and saved clean dataset.\")"
   ]
  },
  {
   "cell_type": "code",
   "execution_count": 2,
   "id": "e6ea043f-01ee-4775-8ed6-fea9c4cf4174",
   "metadata": {},
   "outputs": [],
   "source": [
    "df_drifted = df.copy()\n",
    "\n",
    "# 1. Inflate MonthlyCharges (simulate rising prices)\n",
    "df_drifted['MonthlyCharges'] *= np.random.normal(1.25, 0.05, size=len(df_drifted))\n",
    "\n",
    "# 2. Shorten Tenure (simulate newer users)\n",
    "df_drifted['tenure'] = df_drifted['tenure'] * np.random.uniform(0.4, 0.6)\n",
    "\n",
    "# 3. Add noise to TotalCharges\n",
    "df_drifted['TotalCharges'] += np.random.normal(20, 10, size=len(df_drifted))"
   ]
  },
  {
   "cell_type": "code",
   "execution_count": 3,
   "id": "2f924c8b-92c3-4862-9236-5b360c3884e3",
   "metadata": {},
   "outputs": [],
   "source": [
    "# Flip 15% of churn labels randomly\n",
    "flip_fraction = 0.15\n",
    "flip_indices = df_drifted.sample(frac=flip_fraction, random_state=42).index\n",
    "df_drifted.loc[flip_indices, 'Churn'] = 1 - df_drifted.loc[flip_indices, 'Churn']"
   ]
  },
  {
   "cell_type": "code",
   "execution_count": 4,
   "id": "e8a971ab-4816-4b5b-9bfa-dfb7e40d1ac7",
   "metadata": {},
   "outputs": [
    {
     "name": "stdout",
     "output_type": "stream",
     "text": [
      "Drifted dataset saved.\n"
     ]
    }
   ],
   "source": [
    "# Save drifted version\n",
    "df_drifted.to_csv('telco_churn_drifted.csv', index=False)\n",
    "print(\"Drifted dataset saved.\")"
   ]
  }
 ],
 "metadata": {
  "kernelspec": {
   "display_name": "Python 3 (ipykernel)",
   "language": "python",
   "name": "python3"
  },
  "language_info": {
   "codemirror_mode": {
    "name": "ipython",
    "version": 3
   },
   "file_extension": ".py",
   "mimetype": "text/x-python",
   "name": "python",
   "nbconvert_exporter": "python",
   "pygments_lexer": "ipython3",
   "version": "3.12.4"
  }
 },
 "nbformat": 4,
 "nbformat_minor": 5
}
